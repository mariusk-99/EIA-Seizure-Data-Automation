{
 "cells": [
  {
   "cell_type": "code",
   "execution_count": 19,
   "id": "461d4451",
   "metadata": {},
   "outputs": [
    {
     "name": "stdout",
     "output_type": "stream",
     "text": [
      "Data successfully saved to incident_data.json\n"
     ]
    }
   ],
   "source": [
    "import json\n",
    "\n",
    "file_path = \"extracted_data_text/test_text_json_parser.txt\"\n",
    "\n",
    "with open(file_path, 'r') as file:\n",
    "    file_content = file.read()\n",
    "\n",
    "try:\n",
    "    data = json.loads(file_content)\n",
    "except json.JSONDecodeError as e:\n",
    "    print(f\"Error decoding JSON: {e}\")\n",
    "    data = None\n",
    "\n",
    "# Check if data was successfully parsed\n",
    "if data is not None:\n",
    "    # Save the JSON object to a file\n",
    "    with open(\"parsed_json/incident_data.json\", \"w\") as json_file:\n",
    "        json.dump(data, json_file, indent=4)  # Pretty print the JSON data\n",
    "\n",
    "    print(\"Data successfully saved to incident_data.json\")\n",
    "else:\n",
    "    print(\"Failed to parse data to JSON.\")"
   ]
  },
  {
   "cell_type": "code",
   "execution_count": 18,
   "id": "53bb6179",
   "metadata": {},
   "outputs": [
    {
     "data": {
      "text/plain": [
       "''"
      ]
     },
     "execution_count": 18,
     "metadata": {},
     "output_type": "execute_result"
    }
   ],
   "source": [
    "file_content[470:481]"
   ]
  },
  {
   "cell_type": "code",
   "execution_count": 26,
   "id": "c6a4d9a9",
   "metadata": {},
   "outputs": [
    {
     "name": "stdout",
     "output_type": "stream",
     "text": [
      "Error parsing JSON: Invalid control character at: line 13 column 649 (char 1048)\n"
     ]
    }
   ],
   "source": [
    "import json\n",
    "import re\n",
    "\n",
    "file_path = \"extracted_data_text/test_text_json_parser.txt\"\n",
    "\n",
    "with open(file_path, 'r') as file:\n",
    "    text_data = file.read()\n",
    "\n",
    "def preprocess_text(text):\n",
    "    # Handle multiline elements by ensuring they are represented as valid JSON strings\n",
    "    # This regex pattern identifies multiline values and replaces newlines with \\n\n",
    "    # It also escapes double quotes found within the text\n",
    "    pattern = re.compile(r'(?<=:\\s\")([^\"]+)((\\n\\s+.+)+)', re.MULTILINE)\n",
    "    def replacer(match):\n",
    "        # Replace internal double quotes and newlines\n",
    "        cleaned = match.group(0).replace('\"', '\\\\\"').replace('\\n', '\\\\n')\n",
    "        return cleaned\n",
    "\n",
    "    return pattern.sub(replacer, text)\n",
    "\n",
    "def text_to_json(text):\n",
    "    # Pre-process the text to fix multiline issues\n",
    "    cleaned_text = preprocess_text(text)\n",
    "    \n",
    "    # Convert the cleaned text to a JSON object\n",
    "    try:\n",
    "        json_data = json.loads(cleaned_text)\n",
    "        return json_data\n",
    "    except json.JSONDecodeError as e:\n",
    "        print(f\"Error parsing JSON: {e}\")\n",
    "        return None\n",
    "\n",
    "# Example usage\n",
    "\n",
    "json_data = text_to_json(text_data)\n",
    "if json_data is not None:\n",
    "    # Print the JSON object\n",
    "    print(json.dumps(json_data, indent=4))\n",
    "\n",
    "    # Optionally, save the JSON object to a file\n",
    "    with open('parsed_json/incident_data1.json', 'w') as json_file:\n",
    "        json.dump(json_data, json_file, indent=4)\n"
   ]
  },
  {
   "cell_type": "code",
   "execution_count": 28,
   "id": "e9f6c925",
   "metadata": {},
   "outputs": [
    {
     "data": {
      "text/plain": [
       "','"
      ]
     },
     "execution_count": 28,
     "metadata": {},
     "output_type": "execute_result"
    }
   ],
   "source": [
    "text_data[]"
   ]
  },
  {
   "cell_type": "code",
   "execution_count": null,
   "id": "4cf2d58b",
   "metadata": {},
   "outputs": [],
   "source": []
  }
 ],
 "metadata": {
  "kernelspec": {
   "display_name": "Python 3 (ipykernel)",
   "language": "python",
   "name": "python3"
  },
  "language_info": {
   "codemirror_mode": {
    "name": "ipython",
    "version": 3
   },
   "file_extension": ".py",
   "mimetype": "text/x-python",
   "name": "python",
   "nbconvert_exporter": "python",
   "pygments_lexer": "ipython3",
   "version": "3.10.9"
  }
 },
 "nbformat": 4,
 "nbformat_minor": 5
}
